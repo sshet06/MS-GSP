{
 "cells": [
  {
   "cell_type": "code",
   "execution_count": 11,
   "metadata": {},
   "outputs": [],
   "source": [
    "import pandas as pd\n",
    "from collections import defaultdict\n",
    "pd.__version__\n",
    "def main():\n",
    "    F=defaultdict(list)\n",
    "    k=1\n",
    "    d=\"data.txt\"\n",
    "    p=\"Para.txt\"\n",
    "    S=Read_Data(d)\n",
    "    MS,SDC=Read_Para(p)\n",
    "    N=len(S)\n",
    "    M=[] # according to MIS(i)’s stored in MS\n",
    "    for i ,v in sorted(MS.items(),key=lambda kv:kv[1]):\n",
    "        M.append(i)\n",
    "    L,Count_L=Init_Pass(M,S)   #first pass over S\n",
    "    F[k]=F1gen(L,MS,Count_L)\n",
    "    while (F[k-1]):\n",
    "        if k==2:\n",
    "            C2=Cand2Gen(L,Count_L,MS,SDC)\n",
    "        else:\n",
    "            Ck=MSCandGen(F[k-1]) # To be Written\n",
    "        for s in S:\n",
    "            for cand in C2:\n",
    "                isSequence=isSubsequence(cand,s)\n",
    "                if isSequence:\n",
    "                    count[str(candidate)]+=1\n",
    "                    # c.rest to be verified\n",
    "        F[k]=GenFk()\n",
    "        k+=1"
   ]
  },
  {
   "cell_type": "code",
   "execution_count": 8,
   "metadata": {},
   "outputs": [],
   "source": [
    "def Read_Data(file):\n",
    "    with open(file) as f:\n",
    "        line=f.readline()\n",
    "        cnt=0\n",
    "        S=defaultdict(list)\n",
    "        while line: \n",
    "            sequence=[]\n",
    "            cnt+=1\n",
    "            line=line.replace(\">\",'').replace('<','').replace(\"}{\",\"_\").replace(\"{\",\"\").replace(\"}\",\"\")\n",
    "            for i in line.split(\"_\"):\n",
    "                element=[]\n",
    "                for item in i.split(\",\"):\n",
    "                    element.append(int(item.strip(\" \\n\")))\n",
    "                sequence.append(element)\n",
    "            S[cnt]=sequence\n",
    "            line=f.readline()\n",
    "    return S"
   ]
  },
  {
   "cell_type": "code",
   "execution_count": 9,
   "metadata": {},
   "outputs": [],
   "source": [
    "def Read_Para(file):\n",
    "    with open(file) as f:\n",
    "        line=f.readline()\n",
    "        MS=defaultdict()\n",
    "        while line:\n",
    "            if \"MIS\" in line:\n",
    "                element=line[line.find(\"(\")+1:line.find(\")\")]\n",
    "                mis=line[line.find(\"=\")+1:].lstrip(\" \").lstrip(\"\\n\")\n",
    "                MS[int(element)]=float(mis)\n",
    "            else:SDC=float(line[line.find(\"=\")+1:].lstrip(\" \"))\n",
    "            line=f.readline()\n",
    "    return MS,SDC\n",
    "    "
   ]
  },
  {
   "cell_type": "code",
   "execution_count": null,
   "metadata": {},
   "outputs": [],
   "source": [
    "# Initial pass over transaction and counting the occurence of each item\n",
    "#this is eliminate any item that is below the lowest MIS\n",
    "def Init_Pass(M,S):\n",
    "    Count=defaultdict(int)\n",
    "    Count_L=defaultdict(int)\n",
    "    L=[]\n",
    "    for i,s in S.items():\n",
    "        for item in M:\n",
    "            if item in sum(s,[]):\n",
    "                Count[item]+=1\n",
    "    for item in M:\n",
    "        print(item)\n",
    "        if float(Count[item]/N) >= float(MS[item]):\n",
    "            Minimum_MIS,i=float(MS[item]),M.index(item)\n",
    "            break\n",
    "    \n",
    "    for index in range(i,len(M)):\n",
    "        if float(Count[M[index]]/N) >= Minimum_MIS:\n",
    "            L.append(M[index])\n",
    "            Count_L[M[index]]=Count[M[index]]\n",
    "    return L,Count_L"
   ]
  },
  {
   "cell_type": "code",
   "execution_count": null,
   "metadata": {},
   "outputs": [],
   "source": [
    "def F1gen(L,MS,Count):\n",
    "    F1=[]\n",
    "    for item in L:\n",
    "        #Item satisfying its own MIS\n",
    "        if float(Count[item]/N)>=MS[item]:\n",
    "            F1.append([item])\n",
    "    return F1"
   ]
  },
  {
   "cell_type": "code",
   "execution_count": null,
   "metadata": {},
   "outputs": [],
   "source": [
    "def Cand2Gen(L,Count_L,MS,SDC):\n",
    "    def Duplicate_Removal(C2):\n",
    "        #remove candidates with same element like [10,10] and candidates not in lexicographic order like [20,30]\n",
    "        C2[:] = [c for c in C2 if type(c[0]) is int  and  c[0]<c[1] or type(c[0]) is list]\n",
    "        return C2\n",
    "    # write Your Logice Here\n",
    "    \n",
    "    \n",
    "    \n",
    "    \n",
    "    C2=Duplicate_Removal(C2)\n",
    "    return C2"
   ]
  },
  {
   "cell_type": "code",
   "execution_count": null,
   "metadata": {},
   "outputs": [],
   "source": [
    "def isSubsequence(c,s):\n",
    "    #to handle cases like [10,20,30] convert it into [[10,20,30]]\n",
    "    if type(c[0]) is int:\n",
    "        c=[c] \n",
    "    NumElement_C=len(c)\n",
    "    flag=[0]*len(s)\n",
    "    index=-1\n",
    "    for element in c:\n",
    "        for i in range(index+1,len(s)):\n",
    "            if len(element)==len(set(element)):\n",
    "                if set(element).issubset(set(s[i])) and not flag[i]:\n",
    "                    index=i\n",
    "                    flag[i]=1\n",
    "                    break\n",
    "    if sum(flag)==NumElement_C:\n",
    "        return True\n",
    "    else:\n",
    "        return False"
   ]
  }
 ],
 "metadata": {
  "kernelspec": {
   "display_name": "Python 3",
   "language": "python",
   "name": "python3"
  },
  "language_info": {
   "codemirror_mode": {
    "name": "ipython",
    "version": 3
   },
   "file_extension": ".py",
   "mimetype": "text/x-python",
   "name": "python",
   "nbconvert_exporter": "python",
   "pygments_lexer": "ipython3",
   "version": "3.6.7"
  }
 },
 "nbformat": 4,
 "nbformat_minor": 2
}
